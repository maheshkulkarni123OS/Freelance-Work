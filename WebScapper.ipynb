{
 "cells": [
  {
   "cell_type": "code",
   "execution_count": null,
   "metadata": {},
   "outputs": [],
   "source": [
    "# sample website taken ----https://meilleure-couette.fr-------"
   ]
  },
  {
   "cell_type": "code",
   "execution_count": 1,
   "metadata": {},
   "outputs": [
    {
     "name": "stdout",
     "output_type": "stream",
     "text": [
      "This is sample Website from your list of 90 websites.\n",
      "[('de', 345), ('couette', 226), ('et', 203), ('les', 200), ('dodo', 194), ('le', 171), ('la', 171), ('pour', 164), ('plus', 139), ('', 128), ('à', 113), ('que', 105), ('est', 96), ('matelas', 93), ('–', 92), ('un', 90), ('lit', 90), ('bébé', 89), ('sur', 78), ('votre', 77), ('des', 76), ('d’enfant', 76), ('une', 76), ('ce', 75), ('amazon', 69), ('voir', 68), ('je', 66), ('amazon.fr', 63), ('acheter', 61), ('en', 61), ('eur', 57), ('cette', 57), ('du', 55), ('qui', 53), ('avis', 51), ('produit', 47), ('sont', 47), ('vous', 46), ('il', 45), ('nous', 44), ('sécurité', 40), ('avec', 39), ('fiche', 39), ('chaude', 37), ('aux', 36), ('être', 36), ('x', 33), ('anti-acariens', 31), ('commentaires', 30), ('dans', 30), ('modèle', 30), ('d’achat', 29), ('normes', 28), ('pas', 27), ('ou', 27), ('ne', 27), ('percale', 25), ('gamme', 25), ('nos', 25), ('housse', 24), ('qualité', 24), ('j’ai', 24), ('a', 24), ('son', 24), ('proneem', 23), ('c’est', 23), ('bon', 23), ('meilleures', 21), ('dès', 21), ('si', 21), ('d’un', 21), ('deux', 21), ('bien', 20), ('choix', 20), ('au', 20), ('pense', 19), ('couettes', 18), ('220', 18), ('cm…', 18), ('se', 18), ('moins', 18), ('parents', 18), ('durable', 18), ('ressorts', 18), ('promo', 17), ('offres', 17), ('moment', 17), ('240', 17), ('4', 17), ('200', 16), ('10', 16), ('intérieurs', 16), ('tous', 16), ('s’adresse', 16), ('❤', 15), ('100', 15), ('elle', 15), ('suis', 15), ('pendant', 15), ('ils', 15), ('test', 15), ('doit', 15), ('doigts', 15), ('220…', 14), ('saisons', 14), ('tout', 14), ('facile', 14), ('mont', 13), ('blanc', 13), ('comme', 13), ('notre', 13), ('sûr', 13), ('caractéristiques', 13), ('par', 13), ('74,24', 12), ('arizona', 12), ('chaude…', 12), ('39,90', 12), ('sans', 12), ('assembler', 12), ('temps', 12), ('seule', 12), ('y', 12), ('développement', 12), ('peuvent', 12), ('risque', 12), ('corps', 12), ('ferme', 12), ('mousse', 12), ('mais', 12), ('meilleur', 12), ('souvent', 12), ('peut', 12), ('étapes', 12), ('maintenant', 12), ('—', 12), ('crèche', 12), ('duvet', 11), ('conçu', 11), ('produits', 10), ('lits', 10), ('peu', 10), ('matériaux', 10), ('meubles', 10), ('possible', 10), ('sommes', 10), ('j’en', 10), ('canada', 10), ('conseils', 10), ('d’une', 10), ('programme', 10), ('été', 9), ('munchen', 9), ('tempérée', 9), ('54,47', 9), ('niagara', 9), ('tempérée…', 9), ('35,78', 9), ('garnissage', 9), ('prix', 9), ('esthétique', 9), ('240/260', 9), ('design', 9), ('berceau', 9), ('belle', 9), ('me', 9), ('ça', 9), ('quelque', 9), ('chose', 9), ('qu’il', 9), ('croissance', 9), ('bébés', 9), ('soie', 9), ('confort', 9), ('conçus', 9), ('car', 9), ('soit', 9), ('assez', 9), ('choses', 9), ('offrir', 9), ('soutien', 9), ('besoin', 9), ('mon', 9), ('devrait', 9), ('côtés', 9), ('lui', 9), ('retrouvez', 9), ('détaillée', 9), ('ici', 9), ('⇒', 9), ('conseil', 9), ('imperméable', 9), ('assurer', 9), ('confortable', 9), ('recommande', 9), ('«', 9), ('»', 9), ('plusieurs', 9), ('kit', 9), ('conversion', 9), ('fait', 9), ('contact', 8), ('niveau', 8), ('50', 8), ('1', 8), ('satinée', 8), ('cm', 8), ('trouver', 8), ('comment', 8), ('permettre', 8), ('guide', 7), ('tests', 7), ('taille', 7), ('trouverez', 7), ('bonne', 7), ('testés', 7), ('000', 7), ('chimiques', 7), ('certifiés', 7), ('étant', 7), ('polluants', 7), ('sains', 7), ('environnements', 7), ('entourent', 7), ('rassurantes', 7), ('priorité', 7), ('d’essais', 7), ('internes', 7), ('dépassent', 7), ('l’industrie', 7), ('résistance', 7), ('lamelles', 7), ('utilisons', 7), ('répondent', 7), ('volontaires', 7), ('l’astm', 7), ('règlements', 7), ('fédéraux', 7), ('cpsc', 7), ('efforçons', 7), ('fournir', 7), ('l’environnement', 7), ('fiers', 7), ('avons', 7), ('atteinte', 7), ('maintenue', 7), ('très', 7), ('200…', 6), ('coup', 6), ('coeur', 6), ('enveloppe', 6), ('top', 6), ('d’oie', 6), ('notes', 6), ('présente', 6), ('performant', 6), ('qu’ils', 6), ('pu', 6), ('quelques', 6), ('heures', 6), ('fallait', 6), ('l’assemblage', 6), ('était', 6), ('super', 6), ('simple', 6), ('avoir', 6), ('recherchent', 6), ('leur', 6), ('c’était', 6), ('achat', 6), ('coûteux', 6), ('sommeil', 6), ('souple', 6), ('26263240', 6), ('réduire', 6), ('nourrisson', 6), ('d’asphyxie', 6), ('nouveau-né', 6), ('faits', 6), ('tout-petits', 6), ('26263220', 6), ('trouve', 6), ('utilisé', 6), ('pouvez', 6), ('utiliser', 6), ('tout-petit', 6), ('l’un', 6), ('chers', 6), ('marché', 6), ('résister', 6), ('l’humidité', 6), ('mou', 6), ('c4s200+300g220', 6), ('liens', 6), ('voudrez', 6), ('entre', 6), ('également', 6), ('hauteur', 6), ('tombe', 6), ('choisir', 6), ('critères', 6), ('depuis', 6), ('critiques', 6), ('bois', 6), ('année', 6), ('pleine', 6), ('grandeur', 6), ('vendu', 6), ('séparément', 6), ('peinture', 6), ('non', 6), ('voulais', 6), ('toute', 6), ('instructions', 6), ('étaient', 6), ('alors', 6), ('superbe', 6), ('grand', 6), ('l’ai', 6), ('chaleur', 5), ('coton', 5), ('70', 5), ('2', 5), ('3', 5), ('hiver', 5), ('faire', 5), ('sa', 5), ('accueil', 5), ('mentions', 5), ('legales', 5), ('site', 5), ('participe', 5), ('partenaires', 5), ('d’amazon', 5), ('eu', 5), ('d’affiliation', 5), ('sites', 5), ('percevoir', 5), ('rémunération', 5), ('grâce', 5), ('création', 5), ('vers', 5), ('comparatif', 4), ('144', 4), ('polyester', 4), ('97', 4), ('ultra', 4), ('naturel', 4), ('naturelle', 4), ('équipement', 4), ('rassurant', 4), ('installation', 4), ('template', 3), ('niche', 3), ('accueilguides', 3), ('d', 3), ('chouchou', 3), ('rédaction', 3), ('aperçu', 3), ('evaluation', 3), ('240……', 3), ('238,77', 3), ('54', 3), ('79,00', 3), ('noblesse', 3), ('24', 3), ('62,86', 3), ('5', 3), ('55', 3), ('6', 3), ('maxiconfort', 3), ('thermolite', 3), ('102', 3), ('7', 3), ('8', 3), ('66', 3), ('9', 3), ('sweetnight', 3), ('400g/m²', 3), ('220x240cm', 3), ('et……', 3), ('35,69', 3), ('légère', 3), ('140', 3), ('46', 3), ('34,90', 3), ('cherchez', 3), ('indiqué', 3), ('parfait', 3), ('adoré', 3), ('look', 3), ('ligne', 3), ('pensé', 3), ('pourrais', 3), ('risquer', 3), ('personne', 3), ('couleur', 3), ('auraient', 3), ('capturer', 3), ('photo', 3), ('assis', 3), ('pensant', 3), ('cela', 3), ('prendrait', 3), ('honnêtement', 3), ('déballer', 3), ('(qui', 3), ('encore', 3), ('15', 3), ('minutes', 3), ('magnifique', 3), ('vaut', 3), ('peine', 3), ('vais', 3), ('années', 3), ('pensais', 3), ('l’argent', 3), ('excellent', 3), ('pourrait', 3), ('différencier', 3), ('articles', 3), ('trous', 3), ('visibles', 3), ('là', 3), ('où', 3), ('boulons', 3), ('s’emboîtent', 3), ('uns', 3), ('autres', 3), ('dépendent', 3), ('commence', 3), ('garder', 3), ('heureux', 3), ('reposés', 3), ('souplesse', 3), ('remarquable', 3), ('incontournable', 3), ('convaincant', 3), ('possède', 3), ('nourrissons', 3), ('fermes', 3), ('aider', 3), ('syndrome', 3), ('mort', 3), ('subite', 3), ('adaptés', 3), ('recherchez', 3), ('150', 3), ('confortables', 3), ('côté', 3), ('durables', 3), ('lorsqu’il', 3), ('aérés', 3), ('légers', 3), ('type', 3), ('nuageux', 3), ('n’ont', 3), ('satiné', 3), ('inédit', 3), ('apporter', 3), ('bien-être', 3), ('augmenter', 3), ('suffocation', 3), ('forme', 3), ('tête', 3), ('organiques', 3), ('rentables', 3), ('mieux', 3), ('évalués', 3), ('parce', 3), ('même', 3), ('bobines', 3), ('supplémentaire', 3), ('petite', 3), ('enfance', 3), ('fois', 3), ('sera', 3), ('âgé', 3), ('pourrez', 3), ('retourner', 3), ('donner', 3), ('sensation', 3), ('coussin', 3), ('âge', 3), ('représentent', 3), ('rapport', 3), ('qualité-prix', 3), ('fil', 3), ('satinée/coton', 3), ('existe', 3), ('remarquables', 3), ('marqué', 3), ('accidents', 3), ('déversements', 3), ('courants', 3), ('chez', 3), ('couvre-matelas', 3), ('n’est', 3), ('l’eau', 3), ('accru', 3), ('formation', 3), ('moisissure', 3), ('cause', 3), ('retenue', 3), ('moisissures', 3), ('entraîner', 3), ('problèmes', 3), ('santé', 3), ('surtout', 3), ('souffre', 3), ('d’asthme', 3), ('d’allergies', 3), ('conçue', 3), ('inspectez', 3), ('régulièrement', 3), ('apparence', 3), ('odeur', 3), ('fermeté', 3), ('semblable', 3), ('nuage', 3), ('augmente', 3), ('trop', 3), ('moule', 3), ('240×260', 3), ('vivement', 3), ('bonheur', 3), ('utilisez', 3), ('déterminer', 3), ('risques', 3), ('dangers', 3), ('ajusté', 3), ('essayez', 3), ('mettre', 3), ('vos', 3), ('s’ajustent', 3), ('bras', 3), ('jambes', 3), ('risquent', 3), ('davantage', 3), ('rester', 3), ('coincés', 3), ('l’espace', 3), ('vide', 3), ('devriez', 3), ('conscient', 3), ('fur', 3), ('mesure', 3), ('grandit', 3), ('d’abaisser', 3), ('bas', 3), ('afin', 3), ('s’il', 3), ('grimpe', 3), ('loin', 3), ('osseuse', 3), ('saine', 3), ('avant', 3), ('d’acheter', 3), ('testez-le', 3), ('plaçant', 3), ('main', 3), ('objet', 3), ('l’objet', 3), ('laisser', 3), ('d’empreinte', 3), ('conformation', 3), ('justifié', 3), ('voici', 3), ('éléments', 3), ('indispensables', 3), ('réussite', 3), ('25', 3), ('ans', 3), ('consacre', 3), ('d’offrir', 3), ('leurs', 3), ('enfants', 3), ('jamais', 3), ('compromis', 3), ('difficile', 3), ('remplit', 3), ('aisément', 3), ('ces', 3), ('récompensé', 3), ('élogieuses', 3), ('part', 3), ('d’experts', 3), ('l’une', 3), ('fiables', 3), ('recherchées', 3), ('construite', 3), ('massif', 3), ('transformations', 3), ('offre', 3), ('enfant', 3), ('havre', 3), ('stable', 3), ('après', 3), ('ses', 3), ('courbes', 3), ('douces', 3), ('goût', 3), ('gagné', 3), ('place', 3), ('spéciale', 3), ('foyers', 3), ('cœurs', 3), ('monde', 3), ('entier', 3), ('êtes', 3), ('rassuré', 3), ('aucun', 3), ('doute', 3), ('composition', 3), ('convertible', 3), ('4-en-1', 3), ('utilisation', 3), ('fonctions', 3), ('convertir', 3), ('jour', 3), ('toutefois', 3), ('sachez', 3), ('fini', 3), ('procédé', 3), ('toxique', 3), ('plomb', 3), ('ni', 3), ('phtalate', 3), ('pin', 3), ('nouvelle-zélande', 3), ('(m3099', 3), ('(m4799', 3), ('standard', 3), ('imbattable', 3), ('abordable', 3), ('d’apparence', 3), ('agréable', 3), ('grande', 3), ('semble', 3), ('impossible', 3), ('unique', 3), ('mère', 3), ('célibataire', 3), ('installer', 3), ('l’installation', 3), ('simples', 3), ('suivre', 3), ('ceci', 3), ('fourni', 3), ('dont', 3), ('aurez', 3), ('processus', 3), ('global', 3), ('m’a', 3), ('pris', 3), ('heure', 3), ('demie', 3), ('particulièrement', 3), ('soigné', 3), ('on', 3), ('adore', 3), ('fille', 3), ('dedans', 3), ('six', 3), ('mois', 3), ('l’avons', 3), ('toutes', 3), ('hauteurs', 3), ('disponibles', 3), ('jusqu’ici', 3), ('d’ajuster', 3), ('léger', 3), ('l’éloigner', 3), ('mur', 3), ('repousser', 3), ('facilement', 3), ('tétine', 3), ('(ou', 3), ('projetée', 3), ('derrière', 3), ('impatients', 3), ('transformer', 3), ('l’avenir', 3), ('préoccupation', 3), ('s’écaille', 3), ('lorsqu’elle', 3), ('mâche', 3), ('barres', 3), ('supérieures', 3), ('d’après', 3), ('compris', 3), ('parlant', 3), ('d’autres', 3), ('recommandons', 3), ('d’installer', 3), ('barrière', 3), ('protectrice', 3), ('quelconque', 3), ('chambre', 3), ('mis', 3), ('éternité', 3), ('décider', 3), ('continué', 3), ('lire', 3), ('craignais', 3), ('d’en', 3), ('peur', 3), ('ordure', 3), ('content', 3), ('d’avoir', 3), ('saut', 3), ('absolument', 3), ('n’a', 3), ('endommagé', 3), ('parfaitement', 3), ('claires', 3), ('directes', 3), ('dirais', 3), ('novice', 3), ('avancé', 3), ('assemblé', 3), ('compliquées', 3), ('foutre', 3), ('l’air', 3), ('connais', 3), ('grand-chose', 3), ('outils', 3), ('pièces', 3), ('s’agissait', 3), ('total', 3), ('sept', 3), ('clé', 3), ('allen', 3), ('incluse', 3), ('dormait', 3), ('somme', 3), ('valeur', 3), ('sûre', 3), ('solide', 3), ('mignon', 3), ('fortement', 3), ('arrivé', 3), ('rapidement', 3), ('fils', 3), ('l’utilise', 3), ('soirs', 3), ('passé', 3), ('phase', 3), ('dentition', 3), ('housses', 3), ('éviter', 3), ('l’enfant', 3), ('mordille', 3), ('récemment', 3), ('converti', 3), ('garçon', 3), ('génial', 3), ('satisfait', 3), ('cet', 3), ('reçu', 3), ('an', 3), ('(144', 2), ('(55', 2), ('(66', 2), ('traitement', 2), ('traité', 2), ('gonflante', 2), ('plumettes', 2), ('(1', 2), ('eté', 2), ('mi-saison', 2), ('tout-en-un', 2), ('grammage', 2), ('suivez', 2), ('réussir', 2), ('meilleure', 2), ('juste', 2), ('qu’est-ce', 2), ('justifie', 2), ('fondé', 2), ('garantit', 2), ('soignée', 2), ('simplicité', 2), ('conception', 2), ('actifs', 1), ('naturels', 1), ('400g/m2', 1), ('fibre', 1), ('creuse', 1), ('siliconée', 1), ('220cm', 1), ('240cm', 1), ('260……', 1), ('oie', 1), ('canard', 1), ('(flocons', 1), ('filaments', 1), ('30', 1), ('260', 1), ('63', 1), ('-……', 1), ('plumes', 1), ('stérilisés', 1), ('haute', 1), ('température', 1), ('traités', 1), ('luxe', 1), ('neuf', 1), ('26', 1), ('23692.220', 1), ('très……', 1), ('maintenues', 1), ('microfibre', 1), ('aérelle', 1), ('fibres', 1), ('creuses', 1), ('siliconées', 1), ('gr', 1), ('300gr', 1), ('m2', 1)]\n"
     ]
    }
   ],
   "source": [
    "import requests\n",
    "from bs4 import BeautifulSoup\n",
    "from collections import Counter\n",
    "from string import punctuation\n",
    "\n",
    "# We get the url\n",
    "r = requests.get(\"https://meilleure-couette.fr\")\n",
    "print(\"This is sample Website from your list of 90 websites.\")\n",
    "soup = BeautifulSoup(r.content,'html.parser')\n",
    "\n",
    "# We get the words within paragrphs\n",
    "text_p = (''.join(s.findAll(text=True))for s in soup.findAll('p'))\n",
    "c_p = Counter((x.rstrip(punctuation).lower() for y in text_p for x in y.split()))\n",
    "\n",
    "# We get the words within divs\n",
    "text_div = (''.join(s.findAll(text=True))for s in soup.findAll('div'))\n",
    "c_div = Counter((x.rstrip(punctuation).lower() for y in text_div for x in y.split()))\n",
    "\n",
    "# We sum the two countesr and get a list with words count from most to less common\n",
    "total = c_div + c_p\n",
    "list_most_common_words = total.most_common()\n",
    "print(total.most_common()) "
   ]
  },
  {
   "cell_type": "code",
   "execution_count": null,
   "metadata": {},
   "outputs": [],
   "source": []
  }
 ],
 "metadata": {
  "kernelspec": {
   "display_name": "Python 3",
   "language": "python",
   "name": "python3"
  },
  "language_info": {
   "codemirror_mode": {
    "name": "ipython",
    "version": 3
   },
   "file_extension": ".py",
   "mimetype": "text/x-python",
   "name": "python",
   "nbconvert_exporter": "python",
   "pygments_lexer": "ipython3",
   "version": "3.7.6"
  }
 },
 "nbformat": 4,
 "nbformat_minor": 4
}
